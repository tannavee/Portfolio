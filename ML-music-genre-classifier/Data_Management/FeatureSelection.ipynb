{
 "cells": [
  {
   "cell_type": "code",
   "execution_count": 1,
   "metadata": {},
   "outputs": [
    {
     "name": "stdout",
     "output_type": "stream",
     "text": [
      "Reading features.pkl\n",
      "Reading tracks.pkl\n",
      "Reading echonest.pkl\n",
      "Reading genres.pkl\n"
     ]
    }
   ],
   "source": [
    "#FeatureSelection.ipynb\n",
    "#authors: Chance Stewart\n",
    "\n",
    "import pandas as pd\n",
    "import numpy as np\n",
    "from sklearn.feature_selection import SelectKBest\n",
    "from sklearn.feature_selection import f_classif\n",
    "import CSVInterface\n",
    "\n",
    "reader = CSVInterface.featRead()"
   ]
  },
  {
   "cell_type": "code",
   "execution_count": 2,
   "metadata": {
    "scrolled": true
   },
   "outputs": [],
   "source": [
    "features = reader.getSubset(reader.getFrame('features'), sub='cleanLarge')\n",
    "genres = reader.getSubset(reader.getFrame('track')['genre_top'], sub='cleanLarge')"
   ]
  },
  {
   "cell_type": "code",
   "execution_count": 3,
   "metadata": {
    "scrolled": true
   },
   "outputs": [],
   "source": [
    "Xdf = pd.DataFrame(features)\n",
    "Ydf = pd.DataFrame(genres)"
   ]
  },
  {
   "cell_type": "code",
   "execution_count": 4,
   "metadata": {},
   "outputs": [
    {
     "name": "stdout",
     "output_type": "stream",
     "text": [
      "                             Feature        Score\n",
      "295                 (mfcc, mean, 04)  1242.145874\n",
      "315               (mfcc, median, 04)  1212.966733\n",
      "312               (mfcc, median, 01)  1097.234798\n",
      "292                 (mfcc, mean, 01)  1087.863106\n",
      "275                  (mfcc, max, 04)  1040.706971\n",
      "437  (spectral_contrast, median, 04)  1006.795188\n",
      "272                  (mfcc, max, 01)  1004.792318\n",
      "430    (spectral_contrast, mean, 04)   992.799450\n",
      "436  (spectral_contrast, median, 03)   917.780320\n",
      "429    (spectral_contrast, mean, 03)   905.337592\n",
      "314               (mfcc, median, 03)   863.055983\n",
      "294                 (mfcc, mean, 03)   856.079110\n",
      "435  (spectral_contrast, median, 02)   822.905585\n",
      "428    (spectral_contrast, mean, 02)   809.976324\n",
      "426     (spectral_contrast, max, 07)   760.826713\n",
      "467     (spectral_rolloff, skew, 01)   736.147639\n",
      "319               (mfcc, median, 08)   734.508656\n",
      "317               (mfcc, median, 06)   731.754164\n",
      "297                 (mfcc, mean, 06)   719.100014\n",
      "299                 (mfcc, mean, 08)   717.546248\n",
      "277                  (mfcc, max, 06)   691.042638\n",
      "433    (spectral_contrast, mean, 07)   685.349162\n",
      "440  (spectral_contrast, median, 07)   664.444640\n",
      "438  (spectral_contrast, median, 05)   664.437202\n",
      "321               (mfcc, median, 10)   631.023629\n",
      "412     (spectral_centroid, std, 01)   628.231722\n",
      "431    (spectral_contrast, mean, 05)   624.151985\n",
      "323               (mfcc, median, 12)   618.057177\n",
      "301                 (mfcc, mean, 10)   615.022563\n",
      "354                 (mfcc, skew, 03)   608.640899\n",
      "509               (tonnetz, std, 05)   605.868514\n",
      "468      (spectral_rolloff, std, 01)   602.039202\n",
      "398                  (rmse, std, 01)   599.174118\n",
      "303                 (mfcc, mean, 12)   591.584697\n",
      "510               (tonnetz, std, 06)   570.892989\n",
      "331               (mfcc, median, 20)   567.910401\n",
      "450    (spectral_contrast, skew, 03)   563.438095\n",
      "311                 (mfcc, mean, 20)   555.341448\n",
      "279                  (mfcc, max, 08)   554.647778\n",
      "404   (spectral_bandwidth, skew, 01)   547.360305\n",
      "386                  (mfcc, std, 15)   540.527008\n",
      "385                  (mfcc, std, 14)   539.795737\n",
      "384                  (mfcc, std, 13)   532.326748\n",
      "274                  (mfcc, max, 03)   528.101340\n",
      "449    (spectral_contrast, skew, 02)   522.738127\n",
      "508               (tonnetz, std, 04)   522.589067\n",
      "387                  (mfcc, std, 16)   520.870710\n",
      "325               (mfcc, median, 14)   518.968456\n",
      "329               (mfcc, median, 18)   518.764097\n",
      "507               (tonnetz, std, 03)   515.469634\n"
     ]
    }
   ],
   "source": [
    "res = 50  #number of results to be calculated and printed\n",
    "bestfeatures = SelectKBest(score_func=f_classif, k=res)\n",
    "fit = bestfeatures.fit(Xdf, np.ravel(Ydf))\n",
    "dfscores = pd.DataFrame(fit.scores_)\n",
    "dfcolumns = pd.DataFrame(Xdf.columns)\n",
    "\n",
    "#concat the returned columns and their respective scores\n",
    "featureScores = pd.concat([dfcolumns,dfscores],axis=1)\n",
    "featureScores.columns = ['Feature','Score']\n",
    "#print the selected number of best features according to univarite selection\n",
    "print(featureScores.nlargest(res,'Score'))"
   ]
  },
  {
   "cell_type": "code",
   "execution_count": 5,
   "metadata": {},
   "outputs": [
    {
     "name": "stderr",
     "output_type": "stream",
     "text": [
      "C:\\Users\\gener\\Anaconda3\\lib\\site-packages\\pandas\\core\\reshape\\merge.py:617: UserWarning: merging between different levels can give an unintended result (1 levels on the left, 3 on the right)\n",
      "  warnings.warn(msg, UserWarning)\n"
     ]
    }
   ],
   "source": [
    "#create dataframe formatted for mRMR program\n",
    "df = reader.mergeFrames(Ydf, Xdf)\n",
    "df['genre_top'] = pd.factorize(df['genre_top'])[0] + 1\n",
    "\n",
    "#output csv file to be read into C++ mRMR program. Needs to have instances of ', ' (comma with space, which\n",
    "#appears in the column names) replaced with'/' or some other non-comma separating character in order to work\n",
    "\n",
    "df.to_csv(r'mRMRdata.csv', index=False)\n",
    "\n",
    "#I couldn't manage to get the mRMR python libary to install on my machine, so after some troubleshooting\n",
    "#I used an executable on the mRMR project website.\n",
    "#The program used to calculate mRMR feature selection is found at: http://home.penglab.com/proj/mRMR/\n",
    "#I used the windows executible (but other OS versions exist), run in the same directory as mRMRdata.csv with the command:  \n",
    "#mrmr_win32.exe -i mRMR.csv -t 0.01 -n 200 -s 10000\n",
    "#although this command takes a long time to run, so reducing s (number of samples the program is run on), \n",
    "#n (number of features to select), or increasing -t (threshold for converting continuous variables into\n",
    "#distinct values) should decrease the time it takes to run this.\n",
    "\n",
    "\n",
    "#mRMR results (in column index form):\n",
    "#indices = [435, 295, 412, 314, 312, 275, 437, 331,\n",
    "#          384, 317, 515, 449, 323, 377, 354, 462, 450, 321,\n",
    "#          509, 387, 272, 315, 294, 517, 461, 292, 430, 277,\n",
    "#          508, 379, 174, 428, 411, 386, 325, 375, 319, 426,\n",
    "#          208, 510, 281, 352, 297, 436, 311, 385, 451, 440,\n",
    "#          330, 399, 431, 380, 507, 394, 229, 303, 318, 467,\n",
    "#          388, 373, 415, 301, 285, 406, 355, 381, 444, 429,\n",
    "#          250, 279, 206, 376, 358, 327, 173, 414, 398, 338,\n",
    "#          460, 299, 383, 416, 198, 468, 506, 438, 287, 196,\n",
    "#          433, 445, 389, 335, 305, 278, 212, 382, 172, 395,\n",
    "#          404, 427, 344, 310, 211, 231, 390, 329, 274, 204,\n",
    "#          372, 458, 397, 214, 505, 166, 336, 293, 169, 378,\n",
    "#          320, 209, 514, 343, 328, 356, 391, 471, 159, 205,\n",
    "#          441, 234, 307, 497, 464, 290, 207, 276, 403, 459,\n",
    "#          176, 283, 333, 238, 288, 175, 194, 452, 324, 442,\n",
    "#          232, 434, 465, 298, 210, 254, 228, 472, 309, 362,\n",
    "#          213, 496, 171, 405, 448, 286, 340, 401, 193, 291,\n",
    "#          280, 302, 233, 454, 243, 308, 423, 253, 164, 170,\n",
    "#          215, 443, 511, 199, 289, 313, 339, 230, 200, 488,\n",
    "#          498, 282, 304, 392, 479, 334, 195, 402, 75, 410,\n",
    "#          177, 192]\n",
    "#these are not the exact same as the \"feature numbers\" that the mRMR program outputs, because those\n",
    "#start at index 1. Each of these is one less than the feature numbers, so that they match a starting\n",
    "#index of  0."
   ]
  },
  {
   "cell_type": "code",
   "execution_count": null,
   "metadata": {},
   "outputs": [],
   "source": []
  }
 ],
 "metadata": {
  "kernelspec": {
   "display_name": "Python 3",
   "language": "python",
   "name": "python3"
  },
  "language_info": {
   "codemirror_mode": {
    "name": "ipython",
    "version": 3
   },
   "file_extension": ".py",
   "mimetype": "text/x-python",
   "name": "python",
   "nbconvert_exporter": "python",
   "pygments_lexer": "ipython3",
   "version": "3.7.1"
  }
 },
 "nbformat": 4,
 "nbformat_minor": 2
}
